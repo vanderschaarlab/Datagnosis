{
 "cells": [
  {
   "cell_type": "code",
   "execution_count": null,
   "metadata": {},
   "outputs": [],
   "source": [
    "import sys\n",
    "\n",
    "# Load diabetes dataset from sklearn\n",
    "from sklearn.datasets import load_iris\n",
    "\n",
    "import datagnosis.logger as log\n",
    "log.add(sink=sys.stderr, level=\"INFO\")"
   ]
  },
  {
   "cell_type": "code",
   "execution_count": null,
   "metadata": {},
   "outputs": [],
   "source": [
    "X, y = load_iris(return_X_y=True, as_frame=True)\n",
    "df = X.copy(deep=True)\n",
    "df['target'] = y\n",
    "display(df)"
   ]
  },
  {
   "cell_type": "code",
   "execution_count": null,
   "metadata": {},
   "outputs": [],
   "source": [
    "\n",
    "from datagnosis.plugins.core.datahandler import DataHandler\n",
    "from datagnosis.plugins.core.models.simple_mlp import SimpleMLP\n",
    "from sklearn.preprocessing import StandardScaler\n",
    "from sklearn.model_selection import train_test_split\n",
    "import torch\n",
    "import torch.nn as nn\n",
    "\n",
    "std_scaler = StandardScaler()\n",
    "\n",
    "X_train, X_test, y_train, y_test = train_test_split(X, y, test_size=0.25, random_state=0)\n",
    "X_train = std_scaler.fit_transform(X_train)\n",
    "X_test = std_scaler.transform(X_test)\n",
    "\n",
    "datahander = DataHandler(X_train, y_train, batch_size=32)\n",
    "\n",
    "\n",
    "model = SimpleMLP()\n",
    "# creating our optimizer and loss function object\n",
    "learning_rate = 0.01\n",
    "criterion = nn.CrossEntropyLoss()\n",
    "optimizer = torch.optim.Adam(model.parameters(),lr=learning_rate)"
   ]
  },
  {
   "cell_type": "code",
   "execution_count": null,
   "metadata": {},
   "outputs": [],
   "source": [
    "# datagnosis absolute\n",
    "from datagnosis.plugins import Plugins\n",
    "\n",
    "plugins = Plugins().list()\n",
    "print(plugins)\n"
   ]
  },
  {
   "cell_type": "code",
   "execution_count": null,
   "metadata": {},
   "outputs": [],
   "source": [
    "hcm = Plugins().get(\n",
    "    \"data_iq\",\n",
    "    model=model,\n",
    "    criterion=criterion,\n",
    "    optimizer=optimizer,\n",
    "    lr=learning_rate,\n",
    "    epochs=10,\n",
    "    num_classes=3,\n",
    "    logging_interval=1,\n",
    ")\n",
    "hcm.fit(\n",
    "    datahandler=datahander,\n",
    "    use_caches_if_exist=True,\n",
    ")"
   ]
  },
  {
   "cell_type": "code",
   "execution_count": null,
   "metadata": {},
   "outputs": [],
   "source": [
    "hcm_scores = hcm.scores\n",
    "# print(hcm_scores)\n",
    "print(hcm.score_names)\n",
    "hcm.plot_scores(axis=1, plot_type=\"scatter\")"
   ]
  },
  {
   "cell_type": "code",
   "execution_count": null,
   "metadata": {},
   "outputs": [],
   "source": [
    "import pandas as pd\n",
    "print(hcm.name())\n",
    "print(hcm.hard_direction())\n",
    "hardest_5 = hcm.extract_datapoints(method=\"index\", indices=[0,1,2,3,4,5])\n",
    "\n",
    "display(pd.DataFrame(\n",
    "    data={\n",
    "        \"indices\":hardest_5[0][2],\n",
    "        f\"{X.columns[0]}\": hardest_5[0][0].transpose(0,1)[0],\n",
    "        f\"{X.columns[1]}\": hardest_5[0][0].transpose(0,1)[1],\n",
    "        f\"{X.columns[2]}\": hardest_5[0][0].transpose(0,1)[2],\n",
    "        f\"{X.columns[3]}\": hardest_5[0][0].transpose(0,1)[3],\n",
    "        \"labels\": hardest_5[0][1],\n",
    "        \"scores\": hardest_5[1],\n",
    "    }\n",
    "))"
   ]
  }
 ],
 "metadata": {
  "kernelspec": {
   "display_name": "dc-check",
   "language": "python",
   "name": "python3"
  },
  "language_info": {
   "codemirror_mode": {
    "name": "ipython",
    "version": 3
   },
   "file_extension": ".py",
   "mimetype": "text/x-python",
   "name": "python",
   "nbconvert_exporter": "python",
   "pygments_lexer": "ipython3",
   "version": "3.9.16"
  },
  "orig_nbformat": 4
 },
 "nbformat": 4,
 "nbformat_minor": 2
}
