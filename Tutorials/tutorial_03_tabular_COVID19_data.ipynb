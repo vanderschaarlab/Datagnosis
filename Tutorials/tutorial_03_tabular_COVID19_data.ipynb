{
 "cells": [
  {
   "cell_type": "code",
   "execution_count": null,
   "metadata": {},
   "outputs": [],
   "source": [
    "import sys\n",
    "from pathlib import Path\n",
    "import pandas as pd\n",
    "\n",
    "import datagnosis.logger as log\n",
    "log.add(sink=sys.stderr, level=\"INFO\")"
   ]
  },
  {
   "cell_type": "code",
   "execution_count": null,
   "metadata": {},
   "outputs": [],
   "source": [
    "# Get path to brazil covid19 data\n",
    "root = next((parent for parent in Path.cwd().parents if parent.name == \"datagnosis\"), None)\n",
    "data_path = root / Path(\"data/Brazil_covid19/Brazil_covid19.csv\")\n",
    "df = pd.read_csv(data_path)\n",
    "\n",
    "# Set time horizon to set up the problem as a classification task\n",
    "time_horizon = 14\n",
    "\n",
    "df.loc[(df[\"Days_hospital_to_outcome\"] <= time_horizon) & (df[\"is_dead\"] == 1), f\"is_dead_at_time_horizon={time_horizon}\"] = 1\n",
    "df.loc[(df[\"Days_hospital_to_outcome\"] > time_horizon), f\"is_dead_at_time_horizon={time_horizon}\"] = 0\n",
    "df.loc[(df[\"is_dead\"] == 0), f\"is_dead_at_time_horizon={time_horizon}\"] = 0\n",
    "df[f\"is_dead_at_time_horizon={time_horizon}\"] = df[f\"is_dead_at_time_horizon={time_horizon}\"].astype(int)\n",
    "\n",
    "# drop survival columns as they are not needed for a classification problem\n",
    "df.drop(columns=[\"is_dead\", \"Days_hospital_to_outcome\"], inplace=True)\n",
    "\n",
    "y = df[f\"is_dead_at_time_horizon={time_horizon}\"]\n",
    "X = df.drop(columns=[f\"is_dead_at_time_horizon={time_horizon}\"])\n",
    "display(X.head())\n",
    "display(y.head())\n",
    "\n"
   ]
  },
  {
   "cell_type": "code",
   "execution_count": null,
   "metadata": {},
   "outputs": [],
   "source": [
    "\n",
    "from datagnosis.plugins.core.datahandler import DataHandler\n",
    "from datagnosis.plugins.core.models.simple_mlp import SimpleMLP\n",
    "import torch\n",
    "import torch.nn as nn\n",
    "\n",
    "\n",
    "datahander = DataHandler(X, y, batch_size=32)\n",
    "\n",
    "\n",
    "model = SimpleMLP(input_dim=X.shape[1], output_dim=len(y.unique()))\n",
    "# creating our optimizer and loss function object\n",
    "learning_rate = 0.01\n",
    "criterion = nn.CrossEntropyLoss()\n",
    "optimizer = torch.optim.Adam(model.parameters(),lr=learning_rate)"
   ]
  },
  {
   "cell_type": "code",
   "execution_count": null,
   "metadata": {},
   "outputs": [],
   "source": [
    "# datagnosis absolute\n",
    "from datagnosis.plugins import Plugins\n",
    "\n",
    "plugins = Plugins().list()\n",
    "print(plugins)\n"
   ]
  },
  {
   "cell_type": "code",
   "execution_count": null,
   "metadata": {},
   "outputs": [],
   "source": [
    "hcm = Plugins().get(\n",
    "    \"vog\",\n",
    "    model=model,\n",
    "    criterion=criterion,\n",
    "    optimizer=optimizer,\n",
    "    lr=learning_rate,\n",
    "    epochs=10,\n",
    "    num_classes=2,\n",
    "    logging_interval=1,\n",
    ")\n",
    "hcm.fit(\n",
    "    datahandler=datahander,\n",
    "    use_caches_if_exist=True,\n",
    ")"
   ]
  },
  {
   "cell_type": "code",
   "execution_count": null,
   "metadata": {},
   "outputs": [],
   "source": [
    "print(hcm.score_names)\n",
    "hcm.plot_scores(axis=1, plot_type=\"dist\")"
   ]
  },
  {
   "cell_type": "code",
   "execution_count": null,
   "metadata": {},
   "outputs": [],
   "source": [
    "import pandas as pd\n",
    "print(hcm.name())\n",
    "print(hcm.hard_direction())\n",
    "hardest_5 = hcm.extract_datapoints(method=\"index\", indices=[0,1,2,3,4,5])\n",
    "\n",
    "display(pd.DataFrame(\n",
    "    data={\n",
    "        \"indices\":hardest_5[0][2],\n",
    "        f\"{X.columns[0]}\": hardest_5[0][0].transpose(0,1)[0],\n",
    "        f\"{X.columns[1]}\": hardest_5[0][0].transpose(0,1)[1],\n",
    "        f\"{X.columns[2]}\": hardest_5[0][0].transpose(0,1)[2],\n",
    "        f\"{X.columns[3]}\": hardest_5[0][0].transpose(0,1)[3],\n",
    "        \"labels\": hardest_5[0][1],\n",
    "        \"scores\": hardest_5[1],\n",
    "    }\n",
    "))"
   ]
  }
 ],
 "metadata": {
  "kernelspec": {
   "display_name": "dc-check",
   "language": "python",
   "name": "python3"
  },
  "language_info": {
   "codemirror_mode": {
    "name": "ipython",
    "version": 3
   },
   "file_extension": ".py",
   "mimetype": "text/x-python",
   "name": "python",
   "nbconvert_exporter": "python",
   "pygments_lexer": "ipython3",
   "version": "3.11.4"
  },
  "orig_nbformat": 4
 },
 "nbformat": 4,
 "nbformat_minor": 2
}
