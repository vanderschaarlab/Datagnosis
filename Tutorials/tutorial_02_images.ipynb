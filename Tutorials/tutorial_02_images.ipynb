{
 "cells": [
  {
   "cell_type": "code",
   "execution_count": null,
   "metadata": {},
   "outputs": [],
   "source": [
    "import sys\n",
    "\n",
    "import dc_check.logger as log\n",
    "log.add(sink=sys.stderr, level=\"INFO\")\n"
   ]
  },
  {
   "cell_type": "code",
   "execution_count": null,
   "metadata": {},
   "outputs": [],
   "source": [
    "import torch\n",
    "from torchvision import datasets, transforms\n",
    "from dc_check.utils.datasets.images.mnist import load_mnist\n",
    "from dc_check.utils.datasets.images.cifar import load_cifar\n",
    "\n",
    "DEVICE = torch.device(\"cuda\" if torch.cuda.is_available() else \"cpu\")\n",
    "\n",
    "dataset = \"cifar\"\n",
    "model_name = \"LeNet\"\n",
    "\n",
    "if dataset == \"mnist\":\n",
    "    X_train, y_train, X_test, y_test = load_mnist()\n",
    "elif dataset == \"cifar\":\n",
    "    X_train, y_train, X_test, y_test = load_cifar()\n",
    "else:\n",
    "    raise ValueError(\"Invalid dataset!\")"
   ]
  },
  {
   "cell_type": "code",
   "execution_count": null,
   "metadata": {},
   "outputs": [],
   "source": [
    "\n",
    "import dc_check.plugins.core.models.image_nets as im_nets\n",
    "from dc_check.plugins.core.datahandler import DataHandler\n",
    "import torch\n",
    "import torch.nn as nn\n",
    "\n",
    "# Instantiate the neural network \n",
    "if dataset == 'cifar':\n",
    "    if model_name == 'LeNet':\n",
    "        model = im_nets.LeNet(num_classes=10).to(DEVICE)\n",
    "    if model_name == 'ResNet':\n",
    "        model = im_nets.ResNet18().to(DEVICE)\n",
    "elif dataset == 'mnist':\n",
    "    if model_name == 'LeNet':\n",
    "        model = im_nets.LeNetMNIST(num_classes=10).to(DEVICE)\n",
    "    if model_name == 'ResNet':\n",
    "        model = im_nets.ResNet18MNIST().to(DEVICE)\n",
    "\n",
    "\n",
    "# creating our optimizer and loss function object\n",
    "learning_rate = 0.01\n",
    "criterion = nn.CrossEntropyLoss()\n",
    "optimizer = torch.optim.Adam(model.parameters(),lr=learning_rate)\n",
    "\n",
    "datahandler = DataHandler(X_train, y_train, batch_size=64)"
   ]
  },
  {
   "cell_type": "code",
   "execution_count": null,
   "metadata": {},
   "outputs": [],
   "source": [
    "# dc_check absolute\n",
    "from dc_check.plugins import Plugins\n",
    "\n",
    "Plugins().list()\n"
   ]
  },
  {
   "cell_type": "code",
   "execution_count": null,
   "metadata": {},
   "outputs": [],
   "source": [
    "\n",
    "hcm = Plugins().get(\n",
    "    \"allsh\",\n",
    "    model=model,\n",
    "    criterion=criterion,\n",
    "    optimizer=optimizer,\n",
    "    lr=learning_rate,\n",
    "    epochs=2,\n",
    "    num_classes=10,\n",
    "    logging_interval=1,\n",
    ")\n",
    "hcm.fit(\n",
    "    datahandler=datahandler,\n",
    ")"
   ]
  },
  {
   "cell_type": "code",
   "execution_count": null,
   "metadata": {},
   "outputs": [],
   "source": [
    "hcm_scores = hcm.scores\n",
    "print(hcm_scores)\n",
    "hcm.plot_scores()"
   ]
  },
  {
   "cell_type": "code",
   "execution_count": null,
   "metadata": {},
   "outputs": [],
   "source": [
    "import pandas as pd\n",
    "print(hcm.name())\n",
    "print(hcm.hard_direction())\n",
    "hardest_5 = hcm.extract_datapoints(method=\"top_n\", n=5)\n",
    "display(pd.DataFrame(\n",
    "    data={\n",
    "        \"indices\":hardest_5[0][2],\n",
    "        \"labels\": hardest_5[0][1],\n",
    "        \"scores\": hardest_5[1]}))"
   ]
  }
 ],
 "metadata": {
  "kernelspec": {
   "display_name": "dc-check",
   "language": "python",
   "name": "python3"
  },
  "language_info": {
   "codemirror_mode": {
    "name": "ipython",
    "version": 3
   },
   "file_extension": ".py",
   "mimetype": "text/x-python",
   "name": "python",
   "nbconvert_exporter": "python",
   "pygments_lexer": "ipython3",
   "version": "3.9.16"
  },
  "orig_nbformat": 4
 },
 "nbformat": 4,
 "nbformat_minor": 2
}
