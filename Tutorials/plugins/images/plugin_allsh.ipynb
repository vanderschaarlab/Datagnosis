{
 "cells": [
  {
   "cell_type": "code",
   "execution_count": null,
   "metadata": {},
   "outputs": [],
   "source": [
    "import sys\n",
    "import datagnosis.logger as log\n",
    "log.add(sink=sys.stderr, level=\"INFO\")"
   ]
  },
  {
   "cell_type": "code",
   "execution_count": null,
   "metadata": {},
   "outputs": [],
   "source": [
    "import torch\n",
    "from datagnosis.utils.datasets.images.mnist import load_mnist\n",
    "from datagnosis.utils.datasets.images.cifar import load_cifar\n",
    "\n",
    "DEVICE = torch.device(\"cuda\" if torch.cuda.is_available() else \"cpu\")\n",
    "\n",
    "X_train, y_train, X_test, y_test = load_mnist()\n"
   ]
  },
  {
   "cell_type": "code",
   "execution_count": null,
   "metadata": {},
   "outputs": [],
   "source": [
    "\n",
    "import datagnosis.plugins.core.models.image_nets as im_nets\n",
    "from datagnosis.plugins.core.datahandler import DataHandler\n",
    "import torch\n",
    "import torch.nn as nn\n",
    "\n",
    "\n",
    "model = im_nets.LeNetMNIST(num_classes=10).to(DEVICE)\n",
    "\n",
    "# creating our optimizer and loss function object\n",
    "learning_rate = 0.01\n",
    "criterion = nn.CrossEntropyLoss()\n",
    "optimizer = torch.optim.Adam(model.parameters(),lr=learning_rate)\n",
    "\n",
    "# Lets just use the first 100 examples from the dataset\n",
    "datahandler = DataHandler(X_train[:100], y_train[:100], batch_size=64)"
   ]
  },
  {
   "cell_type": "code",
   "execution_count": null,
   "metadata": {},
   "outputs": [],
   "source": [
    "# datagnosis absolute\n",
    "from datagnosis.plugins import Plugins\n",
    "\n",
    "hcm = Plugins().get(\n",
    "    \"allsh\",\n",
    "    model=model,\n",
    "    criterion=criterion,\n",
    "    optimizer=optimizer,\n",
    "    lr=learning_rate,\n",
    "    epochs=2,\n",
    "    num_classes=10,\n",
    "    logging_interval=1,\n",
    ")\n",
    "hcm.fit(\n",
    "    datahandler=datahandler,\n",
    ")"
   ]
  },
  {
   "cell_type": "code",
   "execution_count": null,
   "metadata": {},
   "outputs": [],
   "source": [
    "hcm_scores = hcm.scores\n",
    "hcm.plot_scores()"
   ]
  }
 ],
 "metadata": {
  "kernelspec": {
   "display_name": "dc-check",
   "language": "python",
   "name": "python3"
  },
  "language_info": {
   "codemirror_mode": {
    "name": "ipython",
    "version": 3
   },
   "file_extension": ".py",
   "mimetype": "text/x-python",
   "name": "python",
   "nbconvert_exporter": "python",
   "pygments_lexer": "ipython3",
   "version": "3.9.16"
  },
  "orig_nbformat": 4
 },
 "nbformat": 4,
 "nbformat_minor": 2
}
