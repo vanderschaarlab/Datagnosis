{
 "cells": [
  {
   "cell_type": "markdown",
   "metadata": {},
   "source": [
    "# Datagnosis Tutorial 01 - simple tabular example\n",
    "\n",
    "*If you prefer, this tutorial is also available on [![Open in Colab](https://colab.research.google.com/assets/colab-badge.svg)](https://drive.google.com/file/d/1PPcjl9jq6E4j3Qz0cZIQbbQTaeK2qH6b/view?usp=sharing)\n",
    "\n",
    "In this tutorial we will see how to use \"hardness characterization method\" plugins to calculate the hardness scores for the data points in a dataset. We will also plot these values and extract some data points based on these scores. For this tutorial we will be using the iris dataset from scikit learn. For a more realistic dataset checkout tutorials 2 and 3!\n",
    "\n",
    "OK, Lets start!\n",
    "\n",
    "First we import our logger from datagnosis and set the logging level at \"INFO\". If something goes wrong and you want to see more detailed logs, you can change the logging level to \"DEBUG\" or, conversely, if you don't want to see any logs you can remove them with log.remove()."
   ]
  },
  {
   "cell_type": "code",
   "execution_count": 1,
   "metadata": {},
   "outputs": [],
   "source": [
    "import sys\n",
    "import datagnosis.logger as log\n",
    "log.add(sink=sys.stderr, level=\"INFO\")"
   ]
  },
  {
   "cell_type": "markdown",
   "metadata": {},
   "source": [
    "Load the dataset"
   ]
  },
  {
   "cell_type": "code",
   "execution_count": 2,
   "metadata": {},
   "outputs": [
    {
     "data": {
      "text/html": [
       "<div>\n",
       "<style scoped>\n",
       "    .dataframe tbody tr th:only-of-type {\n",
       "        vertical-align: middle;\n",
       "    }\n",
       "\n",
       "    .dataframe tbody tr th {\n",
       "        vertical-align: top;\n",
       "    }\n",
       "\n",
       "    .dataframe thead th {\n",
       "        text-align: right;\n",
       "    }\n",
       "</style>\n",
       "<table border=\"1\" class=\"dataframe\">\n",
       "  <thead>\n",
       "    <tr style=\"text-align: right;\">\n",
       "      <th></th>\n",
       "      <th>sepal length (cm)</th>\n",
       "      <th>sepal width (cm)</th>\n",
       "      <th>petal length (cm)</th>\n",
       "      <th>petal width (cm)</th>\n",
       "      <th>target</th>\n",
       "    </tr>\n",
       "  </thead>\n",
       "  <tbody>\n",
       "    <tr>\n",
       "      <th>0</th>\n",
       "      <td>5.1</td>\n",
       "      <td>3.5</td>\n",
       "      <td>1.4</td>\n",
       "      <td>0.2</td>\n",
       "      <td>0</td>\n",
       "    </tr>\n",
       "    <tr>\n",
       "      <th>1</th>\n",
       "      <td>4.9</td>\n",
       "      <td>3.0</td>\n",
       "      <td>1.4</td>\n",
       "      <td>0.2</td>\n",
       "      <td>0</td>\n",
       "    </tr>\n",
       "    <tr>\n",
       "      <th>2</th>\n",
       "      <td>4.7</td>\n",
       "      <td>3.2</td>\n",
       "      <td>1.3</td>\n",
       "      <td>0.2</td>\n",
       "      <td>0</td>\n",
       "    </tr>\n",
       "    <tr>\n",
       "      <th>3</th>\n",
       "      <td>4.6</td>\n",
       "      <td>3.1</td>\n",
       "      <td>1.5</td>\n",
       "      <td>0.2</td>\n",
       "      <td>0</td>\n",
       "    </tr>\n",
       "    <tr>\n",
       "      <th>4</th>\n",
       "      <td>5.0</td>\n",
       "      <td>3.6</td>\n",
       "      <td>1.4</td>\n",
       "      <td>0.2</td>\n",
       "      <td>0</td>\n",
       "    </tr>\n",
       "    <tr>\n",
       "      <th>...</th>\n",
       "      <td>...</td>\n",
       "      <td>...</td>\n",
       "      <td>...</td>\n",
       "      <td>...</td>\n",
       "      <td>...</td>\n",
       "    </tr>\n",
       "    <tr>\n",
       "      <th>145</th>\n",
       "      <td>6.7</td>\n",
       "      <td>3.0</td>\n",
       "      <td>5.2</td>\n",
       "      <td>2.3</td>\n",
       "      <td>2</td>\n",
       "    </tr>\n",
       "    <tr>\n",
       "      <th>146</th>\n",
       "      <td>6.3</td>\n",
       "      <td>2.5</td>\n",
       "      <td>5.0</td>\n",
       "      <td>1.9</td>\n",
       "      <td>2</td>\n",
       "    </tr>\n",
       "    <tr>\n",
       "      <th>147</th>\n",
       "      <td>6.5</td>\n",
       "      <td>3.0</td>\n",
       "      <td>5.2</td>\n",
       "      <td>2.0</td>\n",
       "      <td>2</td>\n",
       "    </tr>\n",
       "    <tr>\n",
       "      <th>148</th>\n",
       "      <td>6.2</td>\n",
       "      <td>3.4</td>\n",
       "      <td>5.4</td>\n",
       "      <td>2.3</td>\n",
       "      <td>2</td>\n",
       "    </tr>\n",
       "    <tr>\n",
       "      <th>149</th>\n",
       "      <td>5.9</td>\n",
       "      <td>3.0</td>\n",
       "      <td>5.1</td>\n",
       "      <td>1.8</td>\n",
       "      <td>2</td>\n",
       "    </tr>\n",
       "  </tbody>\n",
       "</table>\n",
       "<p>150 rows × 5 columns</p>\n",
       "</div>"
      ],
      "text/plain": [
       "     sepal length (cm)  sepal width (cm)  petal length (cm)  petal width (cm)  \\\n",
       "0                  5.1               3.5                1.4               0.2   \n",
       "1                  4.9               3.0                1.4               0.2   \n",
       "2                  4.7               3.2                1.3               0.2   \n",
       "3                  4.6               3.1                1.5               0.2   \n",
       "4                  5.0               3.6                1.4               0.2   \n",
       "..                 ...               ...                ...               ...   \n",
       "145                6.7               3.0                5.2               2.3   \n",
       "146                6.3               2.5                5.0               1.9   \n",
       "147                6.5               3.0                5.2               2.0   \n",
       "148                6.2               3.4                5.4               2.3   \n",
       "149                5.9               3.0                5.1               1.8   \n",
       "\n",
       "     target  \n",
       "0         0  \n",
       "1         0  \n",
       "2         0  \n",
       "3         0  \n",
       "4         0  \n",
       "..      ...  \n",
       "145       2  \n",
       "146       2  \n",
       "147       2  \n",
       "148       2  \n",
       "149       2  \n",
       "\n",
       "[150 rows x 5 columns]"
      ]
     },
     "metadata": {},
     "output_type": "display_data"
    }
   ],
   "source": [
    "from sklearn.datasets import load_iris\n",
    "X, y = load_iris(return_X_y=True, as_frame=True)\n",
    "df = X.copy(deep=True)\n",
    "df['target'] = y\n",
    "display(df)"
   ]
  },
  {
   "cell_type": "markdown",
   "metadata": {},
   "source": [
    "Do some pre-processing on the data if you like, such as scaling. \n",
    "\n",
    "The next key step is to then pass the data to the DataHandler object provided by Datagnosis. This is done by passing the features and the labels separately. The features can be a `pandas.DataFrame`, `numpy.ndarray` or `torch.Tensor`. The labels can be `pandas.series`, `numpy.ndarray` or `torch.Tensor`."
   ]
  },
  {
   "cell_type": "code",
   "execution_count": 3,
   "metadata": {},
   "outputs": [],
   "source": [
    "\n",
    "from datagnosis.plugins.core.datahandler import DataHandler\n",
    "from datagnosis.plugins.core.models.simple_mlp import SimpleMLP\n",
    "from sklearn.preprocessing import StandardScaler\n",
    "from sklearn.model_selection import train_test_split\n",
    "import torch\n",
    "import torch.nn as nn\n",
    "\n",
    "std_scaler = StandardScaler()\n",
    "\n",
    "X_train, X_test, y_train, y_test = train_test_split(X, y, test_size=0.25, random_state=0)\n",
    "X_train = std_scaler.fit_transform(X_train)\n",
    "X_test = std_scaler.transform(X_test)\n",
    "\n",
    "datahander = DataHandler(X_train, y_train, batch_size=32)"
   ]
  },
  {
   "cell_type": "markdown",
   "metadata": {},
   "source": [
    "Now we define some values which we will pass to the plugin, such as the model that we want to use to classify the data."
   ]
  },
  {
   "cell_type": "code",
   "execution_count": 4,
   "metadata": {},
   "outputs": [],
   "source": [
    "\n",
    "# creating our model object, which we both want to use downstream, but also we will use to judge the hardness of the data points\n",
    "model = SimpleMLP()\n",
    "\n",
    "# creating our optimizer and loss function objects\n",
    "learning_rate = 0.01\n",
    "criterion = nn.CrossEntropyLoss()\n",
    "optimizer = torch.optim.Adam(model.parameters(),lr=learning_rate)"
   ]
  },
  {
   "cell_type": "markdown",
   "metadata": {},
   "source": [
    "Import the `Plugins` object from Datagnosis. Then by calling `list()` on the we can see all the available plugins that we can use."
   ]
  },
  {
   "cell_type": "code",
   "execution_count": 5,
   "metadata": {},
   "outputs": [
    {
     "name": "stdout",
     "output_type": "stream",
     "text": [
      "['vog', 'large_loss', 'grand', 'conf_agree', 'prototypicality', 'aum', 'el2n', 'confident_learning', 'data_maps', 'allsh', 'data_iq', 'forgetting']\n"
     ]
    }
   ],
   "source": [
    "# datagnosis absolute\n",
    "from datagnosis.plugins import Plugins\n",
    "\n",
    "plugins = Plugins().list()\n",
    "print(plugins)\n"
   ]
  },
  {
   "cell_type": "markdown",
   "metadata": {},
   "source": [
    "Now we can call `get()` to load up a specific plugin from the list."
   ]
  },
  {
   "cell_type": "code",
   "execution_count": 6,
   "metadata": {},
   "outputs": [],
   "source": [
    "hcm = Plugins().get(\n",
    "    \"data_iq\",\n",
    "    model=model,\n",
    "    criterion=criterion,\n",
    "    optimizer=optimizer,\n",
    "    lr=learning_rate,\n",
    "    epochs=10,\n",
    "    num_classes=3,\n",
    "    logging_interval=1,\n",
    ")\n"
   ]
  },
  {
   "cell_type": "markdown",
   "metadata": {},
   "source": [
    "Next we need to `fit()` the plugin"
   ]
  },
  {
   "cell_type": "code",
   "execution_count": 7,
   "metadata": {},
   "outputs": [
    {
     "name": "stderr",
     "output_type": "stream",
     "text": [
      "[2023-08-02T15:01:14.753523+0100][53711][INFO] Fitting data_iq plugin\n",
      "[2023-08-02T15:01:19.553865+0100][53711][INFO] Epoch 1/10: Loss=0.6950\n",
      "[2023-08-02T15:01:19.621102+0100][53711][INFO] Epoch 2/10: Loss=0.2694\n",
      "[2023-08-02T15:01:19.679058+0100][53711][INFO] Epoch 3/10: Loss=0.1799\n",
      "[2023-08-02T15:01:19.718588+0100][53711][INFO] Epoch 4/10: Loss=0.0955\n",
      "[2023-08-02T15:01:19.758410+0100][53711][INFO] Epoch 5/10: Loss=0.0779\n",
      "[2023-08-02T15:01:19.798361+0100][53711][INFO] Epoch 6/10: Loss=0.1023\n",
      "[2023-08-02T15:01:19.838366+0100][53711][INFO] Epoch 7/10: Loss=0.0663\n",
      "[2023-08-02T15:01:19.877606+0100][53711][INFO] Epoch 8/10: Loss=0.0481\n",
      "[2023-08-02T15:01:19.916285+0100][53711][INFO] Epoch 9/10: Loss=0.0544\n",
      "[2023-08-02T15:01:19.955706+0100][53711][INFO] Epoch 10/10: Loss=0.0513\n"
     ]
    }
   ],
   "source": [
    "\n",
    "hcm.fit(\n",
    "    datahandler=datahander,\n",
    "    use_caches_if_exist=True,\n",
    ")"
   ]
  },
  {
   "cell_type": "markdown",
   "metadata": {},
   "source": [
    "Now the plugin has been fit we can access scores. First, lets get a description of the scores then print them."
   ]
  },
  {
   "cell_type": "code",
   "execution_count": 15,
   "metadata": {},
   "outputs": [
    {
     "name": "stdout",
     "output_type": "stream",
     "text": [
      "<class 'tuple'>\n",
      "<class 'numpy.ndarray'>\n",
      "<class 'numpy.ndarray'>\n"
     ]
    }
   ],
   "source": [
    "print(hcm.score_description())\n",
    "print(hcm.scores)\n"
   ]
  },
  {
   "cell_type": "markdown",
   "metadata": {},
   "source": [
    "Printing the scores leaves them difficult to digest, so now we will plot them instead. We can plot 1-dimentional scores in two different ways with `plot_type=\"dist\"` or `plot_type=\"scatter\"`. Why not have a look at both types and compare?"
   ]
  },
  {
   "cell_type": "code",
   "execution_count": 9,
   "metadata": {},
   "outputs": [
    {
     "name": "stderr",
     "output_type": "stream",
     "text": [
      "[2023-08-02T15:01:20.028794+0100][53711][INFO] Plotting data_iq scores\n"
     ]
    },
    {
     "data": {
      "image/png": "[encoded data removed]",
      "text/plain": [
       "<Figure size 640x480 with 1 Axes>"
      ]
     },
     "metadata": {},
     "output_type": "display_data"
    }
   ],
   "source": [
    "\n",
    "hcm.plot_scores(axis=1, plot_type=\"dist\")"
   ]
  },
  {
   "cell_type": "markdown",
   "metadata": {},
   "source": [
    "Finally the `extract_datapoints` method can be used to select data based on the hcm score. Available methods for extract include `\"top_n\"`, `\"threshold\"` and `\"index\"`. Give them all a go!\n",
    "\n",
    "The following cell takes the hardest 10 data points summarises them in a `pandas.DataFrame`."
   ]
  },
  {
   "cell_type": "code",
   "execution_count": 16,
   "metadata": {},
   "outputs": [
    {
     "name": "stdout",
     "output_type": "stream",
     "text": [
      "Data points that are hard to classify have scores that are: low\n"
     ]
    },
    {
     "data": {
      "text/html": [
       "<div>\n",
       "<style scoped>\n",
       "    .dataframe tbody tr th:only-of-type {\n",
       "        vertical-align: middle;\n",
       "    }\n",
       "\n",
       "    .dataframe tbody tr th {\n",
       "        vertical-align: top;\n",
       "    }\n",
       "\n",
       "    .dataframe thead th {\n",
       "        text-align: right;\n",
       "    }\n",
       "</style>\n",
       "<table border=\"1\" class=\"dataframe\">\n",
       "  <thead>\n",
       "    <tr style=\"text-align: right;\">\n",
       "      <th></th>\n",
       "      <th>indices</th>\n",
       "      <th>sepal length (cm)</th>\n",
       "      <th>sepal width (cm)</th>\n",
       "      <th>petal length (cm)</th>\n",
       "      <th>petal width (cm)</th>\n",
       "      <th>labels</th>\n",
       "      <th>scores</th>\n",
       "    </tr>\n",
       "  </thead>\n",
       "  <tbody>\n",
       "    <tr>\n",
       "      <th>0</th>\n",
       "      <td>1</td>\n",
       "      <td>-0.099845</td>\n",
       "      <td>-1.040395</td>\n",
       "      <td>0.113560</td>\n",
       "      <td>-0.029841</td>\n",
       "      <td>1</td>\n",
       "      <td>0.991709</td>\n",
       "    </tr>\n",
       "    <tr>\n",
       "      <th>1</th>\n",
       "      <td>2</td>\n",
       "      <td>1.053005</td>\n",
       "      <td>-0.119255</td>\n",
       "      <td>0.950314</td>\n",
       "      <td>1.127075</td>\n",
       "      <td>2</td>\n",
       "      <td>1.000000</td>\n",
       "    </tr>\n",
       "    <tr>\n",
       "      <th>2</th>\n",
       "      <td>6</td>\n",
       "      <td>-0.560985</td>\n",
       "      <td>1.492741</td>\n",
       "      <td>-1.281031</td>\n",
       "      <td>-1.315303</td>\n",
       "      <td>0</td>\n",
       "      <td>1.000000</td>\n",
       "    </tr>\n",
       "    <tr>\n",
       "      <th>3</th>\n",
       "      <td>10</td>\n",
       "      <td>0.130725</td>\n",
       "      <td>-1.961535</td>\n",
       "      <td>0.671396</td>\n",
       "      <td>0.355798</td>\n",
       "      <td>2</td>\n",
       "      <td>1.000000</td>\n",
       "    </tr>\n",
       "  </tbody>\n",
       "</table>\n",
       "</div>"
      ],
      "text/plain": [
       "   indices  sepal length (cm)  sepal width (cm)  petal length (cm)  \\\n",
       "0        1          -0.099845         -1.040395           0.113560   \n",
       "1        2           1.053005         -0.119255           0.950314   \n",
       "2        6          -0.560985          1.492741          -1.281031   \n",
       "3       10           0.130725         -1.961535           0.671396   \n",
       "\n",
       "   petal width (cm)  labels    scores  \n",
       "0         -0.029841       1  0.991709  \n",
       "1          1.127075       2  1.000000  \n",
       "2         -1.315303       0  1.000000  \n",
       "3          0.355798       2  1.000000  "
      ]
     },
     "metadata": {},
     "output_type": "display_data"
    }
   ],
   "source": [
    "import pandas as pd\n",
    "print(f\"Data points that are hard to classify have scores that are: {hcm.hard_direction()}\")\n",
    "hardest_10 = hcm.extract_datapoints(method=\"index\", indices=[1,2,6,10])\n",
    "\n",
    "display(pd.DataFrame(\n",
    "    data={\n",
    "        \"indices\":hardest_10[0][2],\n",
    "        f\"{X.columns[0]}\": hardest_10[0][0].transpose(0,1)[0],\n",
    "        f\"{X.columns[1]}\": hardest_10[0][0].transpose(0,1)[1],\n",
    "        f\"{X.columns[2]}\": hardest_10[0][0].transpose(0,1)[2],\n",
    "        f\"{X.columns[3]}\": hardest_10[0][0].transpose(0,1)[3],\n",
    "        \"labels\": hardest_10[0][1],\n",
    "        \"scores\": hardest_10[1],\n",
    "    }\n",
    "))"
   ]
  },
  {
   "cell_type": "code",
   "execution_count": 11,
   "metadata": {},
   "outputs": [
    {
     "name": "stdout",
     "output_type": "stream",
     "text": [
      "((tensor([[-1.0221e+00, -2.4221e+00, -1.6536e-01, -2.8693e-01],\n",
      "        [-4.4570e-01, -1.5010e+00,  1.9923e-03, -1.5839e-01],\n",
      "        [-6.7627e-01,  1.4927e+00, -1.2810e+00, -1.3153e+00],\n",
      "        [ 5.9186e-01, -8.1011e-01,  8.3875e-01,  8.6998e-01],\n",
      "        [-9.0684e-01,  1.7230e+00, -1.2252e+00, -1.3153e+00],\n",
      "        [-7.9155e-01,  8.0189e-01, -1.3368e+00, -1.3153e+00],\n",
      "        [ 2.0906e+00, -1.0404e+00,  1.7313e+00,  1.3842e+00],\n",
      "        [-1.3680e+00,  3.4132e-01, -1.2252e+00, -1.3153e+00],\n",
      "        [-2.1513e-01, -1.0404e+00, -1.6536e-01, -2.8693e-01],\n",
      "        [ 4.7658e-01, -3.4954e-01,  1.0061e+00,  7.4144e-01]]), tensor([1, 1, 0, 2, 0, 0, 2, 0, 1, 2]), [7, 15, 30, 32, 49, 69, 76, 85, 91, 108]), array([0.9221698 , 0.46798903, 0.73497045, 0.88869566, 0.31462792,\n",
      "       0.93475664, 0.8169474 , 0.90839595, 0.44496712, 0.83549249]))\n"
     ]
    }
   ],
   "source": [
    "print(hardest_10)"
   ]
  }
 ],
 "metadata": {
  "kernelspec": {
   "display_name": "dc-check",
   "language": "python",
   "name": "python3"
  },
  "language_info": {
   "codemirror_mode": {
    "name": "ipython",
    "version": 3
   },
   "file_extension": ".py",
   "mimetype": "text/x-python",
   "name": "python",
   "nbconvert_exporter": "python",
   "pygments_lexer": "ipython3",
   "version": "3.9.16"
  },
  "orig_nbformat": 4
 },
 "nbformat": 4,
 "nbformat_minor": 2
}
